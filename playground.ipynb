{
 "cells": [
  {
   "cell_type": "code",
   "execution_count": 4,
   "metadata": {},
   "outputs": [],
   "source": []
  },
  {
   "cell_type": "code",
   "metadata": {
    "ExecuteTime": {
     "end_time": "2024-10-03T16:05:34.544204Z",
     "start_time": "2024-10-03T16:05:34.540262Z"
    }
   },
   "source": [
    "from customized_prompts import auto_translator_instructions\n",
    "\n",
    "\n",
    "instructions = auto_translator_instructions(\"Vietnamese\")\n",
    "print(instructions)"
   ],
   "outputs": [
    {
     "name": "stdout",
     "output_type": "stream",
     "text": [
      "\n",
      "    This task involves translating a comprehensive research report from English to Vietnamese while adhering to specific translation standards. The agent must ensure that specific field-related nouns remain untranslated and in English. General terms can be translated as needed. The agent must also maintain the structural integrity of the document and preserve all references (links).\n",
      "    Role\n",
      "    The translator agent should be created based on the specific research topic, ensuring the translation respects domain-specific terminology. Each agent is tailored for its field and tasked with translating content while preserving accuracy and meaning, and full report\n",
      "\n",
      "    Examples:\n",
      "    task: \"Generative AI impacts on Software Development\"\n",
      "    response:\n",
      "    {\n",
      "        \"cuserver\": \"🧠 AI Translator Agent\",\n",
      "        \"agent_role_prompt\": \"You are an expert AI researcher and translator. Your objective is to translate technical and research-heavy content related to artificial intelligence from English to Vietnamese. Keep specific AI-related nouns such as 'neural network,' 'CNN,' 'transformer,' and 'GPT' in English. Maintain the original report structure and keep all references (links) intact.\"\n",
      "    }\n",
      "    task: \"Cryotherapy: the most effective method for muscle recovery\"\n",
      "    response:\n",
      "    {\n",
      "        \"server\": \"💪 Sports Science Translator Agent\",\n",
      "        \"agent_role_prompt\": \"You are a sports science translator with expertise in translating medical and research articles. Translate content related to cryotherapy and muscle recovery from English to Vietnamese. Keep specific medical and sports science terms such as 'Cryotherapy,' 'Photobiomodulation,' and 'Hyperbaric Oxygen Therapy' in English. Maintain the original report structure and keep all references (links) intact.\"\n",
      "    }\n",
      "    task: \"Sustainability efforts in modern agriculture\"\n",
      "    response:\n",
      "    {\n",
      "        \"server\": \"🌱 Environmental Translator Agent\",\n",
      "        \"agent_role_prompt\": \"You are an AI-driven environmental science translator. Your task is to translate reports on sustainability and agriculture from English to Vietnamese. Keep specific scientific nouns such as 'photosynthesis,' 'hydroponics,' and 'permaculture' in English. Maintain the original report structure and keep all references (links) intact.\"\n",
      "    }\n",
      "    \n"
     ]
    }
   ],
   "execution_count": 1
  },
  {
   "cell_type": "code",
   "execution_count": null,
   "metadata": {},
   "outputs": [],
   "source": [
    "import utils\n",
    "def generate)\n",
    "report = generate_mock_report()\n",
    "utils.translate_report(\"Impact of COVID-19 on the Vietnamese Economy\", report , \"Vietnamese\")"
   ]
  }
 ],
 "metadata": {
  "kernelspec": {
   "display_name": "backend-1Yr5xPNs",
   "language": "python",
   "name": "python3"
  },
  "language_info": {
   "codemirror_mode": {
    "name": "ipython",
    "version": 3
   },
   "file_extension": ".py",
   "mimetype": "text/x-python",
   "name": "python",
   "nbconvert_exporter": "python",
   "pygments_lexer": "ipython3",
   "version": "3.11.9"
  }
 },
 "nbformat": 4,
 "nbformat_minor": 2
}
